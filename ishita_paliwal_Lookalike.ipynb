{
  "nbformat": 4,
  "nbformat_minor": 0,
  "metadata": {
    "colab": {
      "provenance": []
    },
    "kernelspec": {
      "name": "python3",
      "display_name": "Python 3"
    },
    "language_info": {
      "name": "python"
    }
  },
  "cells": [
    {
      "cell_type": "code",
      "execution_count": 1,
      "metadata": {
        "id": "N6eBQomqdIEX"
      },
      "outputs": [],
      "source": [
        "import pandas as pd\n",
        "import numpy as np\n",
        "from sklearn.preprocessing import StandardScaler\n",
        "from sklearn.metrics.pairwise import cosine_similarity"
      ]
    },
    {
      "cell_type": "code",
      "source": [
        "# Load the data\n",
        "customers = pd.read_csv('Customers.csv')\n",
        "products = pd.read_csv('Products.csv')\n",
        "transactions = pd.read_csv('Transactions.csv')"
      ],
      "metadata": {
        "id": "e4KWo961dl0S"
      },
      "execution_count": 2,
      "outputs": []
    },
    {
      "cell_type": "code",
      "source": [
        "def create_customer_features():\n",
        "    # Create customer transaction features\n",
        "    customer_features = transactions.groupby('CustomerID').agg({\n",
        "        'TransactionID': 'count',\n",
        "        'TotalValue': ['sum', 'mean'],\n",
        "        'Quantity': ['sum', 'mean']\n",
        "    })\n",
        "\n",
        "    # Flatten the multi-level column index\n",
        "    customer_features.columns = ['_'.join(col) for col in customer_features.columns] # Flatten column names\n",
        "    customer_features = customer_features.reset_index()\n",
        "    # Add customer profile features\n",
        "    customer_features = customers.merge(customer_features, on='CustomerID', how='left')\n",
        "\n",
        "    # Convert signup date to numeric feature (days since first signup)\n",
        "    customer_features['SignupDate'] = pd.to_datetime(customer_features['SignupDate'])\n",
        "    customer_features['days_since_signup'] = (customer_features['SignupDate'].max() -\n",
        "                                            customer_features['SignupDate']).dt.days\n",
        "\n",
        "    # One-hot encode region\n",
        "    customer_features = pd.get_dummies(customer_features, columns=['Region'])\n",
        "\n",
        "    # Fill NaN values with 0\n",
        "    customer_features = customer_features.fillna(0) # Fill NaN with 0\n",
        "\n",
        "    return customer_features\n"
      ],
      "metadata": {
        "id": "oyepLfP6doGb"
      },
      "execution_count": 19,
      "outputs": []
    },
    {
      "cell_type": "code",
      "source": [
        "def find_lookalikes(customer_features, target_customers, n_recommendations=3):\n",
        "    # Prepare features for similarity calculation\n",
        "    features_for_similarity = customer_features.drop(['CustomerID', 'CustomerName', 'SignupDate'], axis=1)\n",
        "\n",
        "    # Scale features\n",
        "    scaler = StandardScaler()\n",
        "    scaled_features = scaler.fit_transform(features_for_similarity)\n",
        "\n",
        "    # Calculate similarity matrix\n",
        "    similarity_matrix = cosine_similarity(scaled_features)\n",
        "\n",
        "    # Generate recommendations\n",
        "    recommendations = []\n",
        "    for target_id in target_customers:\n",
        "        target_idx = customer_features[customer_features['CustomerID'] == target_id].index[0]\n",
        "        similar_indices = similarity_matrix[target_idx].argsort()[::-1][1:n_recommendations+1]\n",
        "\n",
        "        for idx in similar_indices:\n",
        "            similar_id = customer_features.iloc[idx]['CustomerID']\n",
        "            score = similarity_matrix[target_idx][idx]\n",
        "            recommendations.append({\n",
        "                'CustomerID': target_id,\n",
        "                'SimilarCustomerID': similar_id,\n",
        "                'SimilarityScore': score\n",
        "            })\n",
        "\n",
        "    return pd.DataFrame(recommendations)"
      ],
      "metadata": {
        "id": "bq90h48Yds4M"
      },
      "execution_count": 20,
      "outputs": []
    },
    {
      "cell_type": "code",
      "source": [
        "# Create customer features\n",
        "customer_features = create_customer_features()"
      ],
      "metadata": {
        "id": "QrIb5gx0eKzU"
      },
      "execution_count": 22,
      "outputs": []
    },
    {
      "cell_type": "code",
      "source": [
        "# Generate recommendations for customers C0001-C0020\n",
        "target_customers = [f'C{str(i).zfill(4)}' for i in range(1, 21)]\n",
        "recommendations = find_lookalikes(customer_features, target_customers)"
      ],
      "metadata": {
        "id": "WW1jYT8ZfGjP"
      },
      "execution_count": 24,
      "outputs": []
    },
    {
      "cell_type": "code",
      "source": [
        "# Save recommendations\n",
        "recommendations.to_csv('FirstName_LastName_Lookalike.csv', index=False)"
      ],
      "metadata": {
        "id": "PHzJUfbJfJ6d"
      },
      "execution_count": 27,
      "outputs": []
    },
    {
      "cell_type": "code",
      "source": [
        "# Display sample recommendations\n",
        "print(\"Sample recommendations:\")\n",
        "print(recommendations.head(10))"
      ],
      "metadata": {
        "colab": {
          "base_uri": "https://localhost:8080/"
        },
        "id": "FbNPDn0ofNWn",
        "outputId": "d7ec545d-758a-4c0d-b830-6352f1c2ada9"
      },
      "execution_count": 28,
      "outputs": [
        {
          "output_type": "stream",
          "name": "stdout",
          "text": [
            "Sample recommendations:\n",
            "  CustomerID SimilarCustomerID  SimilarityScore\n",
            "0      C0001             C0174         0.963480\n",
            "1      C0001             C0152         0.951797\n",
            "2      C0001             C0107         0.947931\n",
            "3      C0002             C0106         0.921003\n",
            "4      C0002             C0159         0.909760\n",
            "5      C0002             C0005         0.906467\n",
            "6      C0003             C0129         0.866113\n",
            "7      C0003             C0190         0.860165\n",
            "8      C0003             C0039         0.779408\n",
            "9      C0004             C0113         0.982045\n"
          ]
        }
      ]
    }
  ]
}